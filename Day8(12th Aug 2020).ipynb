{
 "cells": [
  {
   "cell_type": "code",
   "execution_count": 2,
   "metadata": {},
   "outputs": [
    {
     "name": "stdout",
     "output_type": "stream",
     "text": [
      "1 2 3 4 5\n",
      "[1, 2, 3, 4, 5]\n"
     ]
    },
    {
     "data": {
      "text/plain": [
       "15"
      ]
     },
     "execution_count": 2,
     "metadata": {},
     "output_type": "execute_result"
    }
   ],
   "source": [
    "# read n space separated integers and add them\n",
    "nums=input().split() # \n",
    "li=[]\n",
    "for num in nums:\n",
    "    li.append(int(num))\n",
    "print(li)\n",
    "sum(li)"
   ]
  },
  {
   "cell_type": "code",
   "execution_count": 3,
   "metadata": {},
   "outputs": [],
   "source": [
    "# sum of middle digits of every num in a seq of no.s\n",
    "# 234 567 980 194 754-->i/p\n",
    "# 3+6+8+9+5-->o/p"
   ]
  },
  {
   "cell_type": "code",
   "execution_count": 4,
   "metadata": {},
   "outputs": [
    {
     "data": {
      "text/plain": [
       "31"
      ]
     },
     "execution_count": 4,
     "metadata": {},
     "output_type": "execute_result"
    }
   ],
   "source": [
    "3+6+8+9+5"
   ]
  },
  {
   "cell_type": "code",
   "execution_count": 20,
   "metadata": {},
   "outputs": [
    {
     "name": "stdout",
     "output_type": "stream",
     "text": [
      "234 567 980 194 754\n"
     ]
    },
    {
     "data": {
      "text/plain": [
       "31"
      ]
     },
     "execution_count": 20,
     "metadata": {},
     "output_type": "execute_result"
    }
   ],
   "source": [
    "st=input().split(\" \")\n",
    "s=0\n",
    "for num in st:\n",
    "    #print(num)\n",
    "    s+=int(num[1])\n",
    "s"
   ]
  },
  {
   "cell_type": "code",
   "execution_count": 16,
   "metadata": {},
   "outputs": [
    {
     "data": {
      "text/plain": [
       "'123'"
      ]
     },
     "execution_count": 16,
     "metadata": {},
     "output_type": "execute_result"
    }
   ],
   "source": [
    "s[0]"
   ]
  },
  {
   "cell_type": "code",
   "execution_count": 17,
   "metadata": {},
   "outputs": [
    {
     "data": {
      "text/plain": [
       "'2'"
      ]
     },
     "execution_count": 17,
     "metadata": {},
     "output_type": "execute_result"
    }
   ],
   "source": [
    "s[0][1]#-->numpy "
   ]
  },
  {
   "cell_type": "code",
   "execution_count": 29,
   "metadata": {},
   "outputs": [
    {
     "data": {
      "text/plain": [
       "[12, 34, 56, 89, 90, 3]"
      ]
     },
     "execution_count": 29,
     "metadata": {},
     "output_type": "execute_result"
    }
   ],
   "source": [
    "repeated=[12,34,56,12,89,90,3]\n",
    "# unq list of numbers-->[1,2,3,4,5,6]\n",
    "\n",
    "unq=[]\n",
    "for num in repeated:\n",
    "    if num not in unq:\n",
    "        unq.append(num)\n",
    "unq"
   ]
  },
  {
   "cell_type": "code",
   "execution_count": 28,
   "metadata": {},
   "outputs": [
    {
     "name": "stdout",
     "output_type": "stream",
     "text": [
      "12 34 56 89 90 23 50 12 34\n",
      "[12, 34, 56, 89, 90, 23, 50]\n"
     ]
    }
   ],
   "source": [
    "l=[int(x) for x in input().split()] # list comprehension\n",
    "r=[]\n",
    "for i in l:\n",
    "    if(i not in r):\n",
    "        r.append(i)\n",
    "print(r)"
   ]
  },
  {
   "cell_type": "code",
   "execution_count": 8,
   "metadata": {},
   "outputs": [
    {
     "name": "stdout",
     "output_type": "stream",
     "text": [
      "Hi I am Ruthu\n",
      "i I a u u "
     ]
    }
   ],
   "source": [
    "def print_all(st):\n",
    "    vowels='aeiouAEIOU'\n",
    "    up_vowels=''\n",
    "    for ch in st:\n",
    "        if ch in vowels:\n",
    "            if ch.islower():\n",
    "                print(ch,end=\" \")\n",
    "                continue \n",
    "            else:\n",
    "                print(ch,end=\" \")\n",
    "print_all(input())"
   ]
  },
  {
   "cell_type": "code",
   "execution_count": 34,
   "metadata": {},
   "outputs": [
    {
     "name": "stdout",
     "output_type": "stream",
     "text": [
      "trainerr\n",
      "trainerru\n",
      "trainerrut\n",
      "trainerruth\n",
      "trainerruthu\n"
     ]
    }
   ],
   "source": [
    "s='trainer'\n",
    "for ch in 'hurut':\n",
    "    s+=ch\n",
    "    print(s)"
   ]
  },
  {
   "cell_type": "code",
   "execution_count": 36,
   "metadata": {},
   "outputs": [
    {
     "data": {
      "text/plain": [
       "[5, 7, 9]"
      ]
     },
     "execution_count": 36,
     "metadata": {},
     "output_type": "execute_result"
    }
   ],
   "source": [
    "li=[1,2,3]\n",
    "li2=[4,5,6]\n",
    "li3=[]\n",
    "# li3=[5,7,9]\n",
    "for num,num2 in zip(li,li2):\n",
    "    li3.append(num+num2)\n",
    "li3"
   ]
  },
  {
   "cell_type": "code",
   "execution_count": 48,
   "metadata": {},
   "outputs": [
    {
     "name": "stdout",
     "output_type": "stream",
     "text": [
      "printing the factorials of primes\n",
      "5 7 12 15\n",
      "5:120\n",
      "7:5040\n"
     ]
    }
   ],
   "source": [
    "# factorial of primes no.s present in the series..\n",
    "# 12 11 19 89 50 94 14-->11 19\n",
    "def is_prime(num):\n",
    "    count=0\n",
    "    for dig in range(1,num+1):\n",
    "        if num%dig==0:# division condition\n",
    "            count+=1\n",
    "    if count==2:\n",
    "        return 1\n",
    "    else:return 0\n",
    "    \n",
    "def factorial(n):\n",
    "    fact=1\n",
    "    for num in range(n,0,-1):\n",
    "        fact*=num\n",
    "    return fact\n",
    "    \n",
    "#is_prime(13)\n",
    "print('printing the factorials of primes')\n",
    "seq=input().split()\n",
    "for num in seq:\n",
    "    if is_prime(int(num)):\n",
    "        print(num,factorial(int(num)),sep=\":\")   \n"
   ]
  },
  {
   "cell_type": "code",
   "execution_count": 44,
   "metadata": {},
   "outputs": [
    {
     "data": {
      "text/plain": [
       "24"
      ]
     },
     "execution_count": 44,
     "metadata": {},
     "output_type": "execute_result"
    }
   ],
   "source": [
    "#5!-->5x4x3x2x1=120\n",
    "\n",
    "\n",
    "factorial(4)"
   ]
  },
  {
   "cell_type": "code",
   "execution_count": 45,
   "metadata": {},
   "outputs": [
    {
     "data": {
      "text/plain": [
       "1"
      ]
     },
     "execution_count": 45,
     "metadata": {},
     "output_type": "execute_result"
    }
   ],
   "source": [
    "factorial(1)"
   ]
  },
  {
   "cell_type": "code",
   "execution_count": 49,
   "metadata": {
    "collapsed": true
   },
   "outputs": [
    {
     "ename": "SyntaxError",
     "evalue": "invalid syntax (<ipython-input-49-04c34b2abb57>, line 5)",
     "output_type": "error",
     "traceback": [
      "\u001b[1;36m  File \u001b[1;32m\"<ipython-input-49-04c34b2abb57>\"\u001b[1;36m, line \u001b[1;32m5\u001b[0m\n\u001b[1;33m    1)6(--0\u001b[0m\n\u001b[1;37m     ^\u001b[0m\n\u001b[1;31mSyntaxError\u001b[0m\u001b[1;31m:\u001b[0m invalid syntax\n"
     ]
    }
   ],
   "source": [
    "# prime no.s--.\n",
    "factors=0\n",
    "#6-->1,2,3-->not a prime\n",
    "#5--1 & 5--prime\n",
    "1)6(--0\n",
    "    2)6(--0\n",
    "        3)6(--0\n",
    "            4)6(--2\n",
    "                5)6(--1\n",
    "                    6)6(--0"
   ]
  },
  {
   "cell_type": "code",
   "execution_count": 50,
   "metadata": {},
   "outputs": [],
   "source": [
    "# min sum and max sum of list(dynamic)\n",
    "# 12 34 59 90 13 67 909876 5678 3456 34567 0987 1234-->\n",
    "# "
   ]
  },
  {
   "cell_type": "code",
   "execution_count": 51,
   "metadata": {
    "collapsed": true
   },
   "outputs": [
    {
     "name": "stdout",
     "output_type": "stream",
     "text": [
      "12 89 09876 3456 7898 19876 5467 3456\n",
      "7013\n",
      "43117\n"
     ]
    }
   ],
   "source": [
    "n=input().split()\n",
    "li=[]\n",
    "for i in n:\n",
    "    li.append(int(i))\n",
    "li.sort()\n",
    "print(sum(li[0:4]))\n",
    "print(sum(li[-4: ]))\n"
   ]
  },
  {
   "cell_type": "markdown",
   "metadata": {},
   "source": [
    "### sets\n",
    "- well defined collection of data/elements\n",
    "- {}\n",
    "- eleminates the duplicate data"
   ]
  },
  {
   "cell_type": "code",
   "execution_count": 52,
   "metadata": {},
   "outputs": [
    {
     "data": {
      "text/plain": [
       "{12, 34, 78, 90, 'Hey', 'hi'}"
      ]
     },
     "execution_count": 52,
     "metadata": {},
     "output_type": "execute_result"
    }
   ],
   "source": [
    "s={12,34,90,'Hey','hi',78,90}\n",
    "s"
   ]
  },
  {
   "cell_type": "code",
   "execution_count": 53,
   "metadata": {},
   "outputs": [
    {
     "data": {
      "text/plain": [
       "72"
      ]
     },
     "execution_count": 53,
     "metadata": {},
     "output_type": "execute_result"
    }
   ],
   "source": [
    "ord('H')"
   ]
  },
  {
   "cell_type": "code",
   "execution_count": 54,
   "metadata": {},
   "outputs": [
    {
     "data": {
      "text/plain": [
       "104"
      ]
     },
     "execution_count": 54,
     "metadata": {},
     "output_type": "execute_result"
    }
   ],
   "source": [
    "ord('h')"
   ]
  },
  {
   "cell_type": "code",
   "execution_count": 55,
   "metadata": {},
   "outputs": [
    {
     "data": {
      "text/plain": [
       "[12, 34, 56, 89, 90, 3]"
      ]
     },
     "execution_count": 55,
     "metadata": {},
     "output_type": "execute_result"
    }
   ],
   "source": [
    "unq"
   ]
  },
  {
   "cell_type": "code",
   "execution_count": 56,
   "metadata": {},
   "outputs": [
    {
     "data": {
      "text/plain": [
       "[12, 34, 56, 12, 89, 90, 3]"
      ]
     },
     "execution_count": 56,
     "metadata": {},
     "output_type": "execute_result"
    }
   ],
   "source": [
    "repeated"
   ]
  },
  {
   "cell_type": "code",
   "execution_count": 57,
   "metadata": {},
   "outputs": [
    {
     "data": {
      "text/plain": [
       "[12, 34, 56, 89, 90, 3]"
      ]
     },
     "execution_count": 57,
     "metadata": {},
     "output_type": "execute_result"
    }
   ],
   "source": [
    "unq"
   ]
  },
  {
   "cell_type": "code",
   "execution_count": 58,
   "metadata": {},
   "outputs": [
    {
     "data": {
      "text/plain": [
       "{3, 12, 34, 56, 89, 90}"
      ]
     },
     "execution_count": 58,
     "metadata": {},
     "output_type": "execute_result"
    }
   ],
   "source": [
    "set(repeated)"
   ]
  },
  {
   "cell_type": "markdown",
   "metadata": {},
   "source": [
    "#### set methods\n",
    "- subset()\n",
    "- superset()\n",
    "- disjoint()\n",
    "- union()\n",
    "- intersection()\n",
    "- difference()\n",
    "- etc.."
   ]
  },
  {
   "cell_type": "code",
   "execution_count": 60,
   "metadata": {},
   "outputs": [
    {
     "data": {
      "text/plain": [
       "[1, 1, 2, 3, 3, 4, 4, 5, 6, 7, 10]"
      ]
     },
     "execution_count": 60,
     "metadata": {},
     "output_type": "execute_result"
    }
   ],
   "source": [
    "nums=[1,3,2,4,5,6,7,10,1,3,4] # random\n",
    "#s1=1+2+3+4=10 # min sum\n",
    "#s2=10+7+6+5=28# max sum\n",
    "#s3=2+3+5+10=20\n",
    "nums.sort()\n",
    "nums"
   ]
  },
  {
   "cell_type": "code",
   "execution_count": null,
   "metadata": {},
   "outputs": [],
   "source": [
    "min_sum=sum(nums[0:4])\n",
    "max_sum=sum(nums[-4:])"
   ]
  }
 ],
 "metadata": {
  "kernelspec": {
   "display_name": "Python 3",
   "language": "python",
   "name": "python3"
  },
  "language_info": {
   "codemirror_mode": {
    "name": "ipython",
    "version": 3
   },
   "file_extension": ".py",
   "mimetype": "text/x-python",
   "name": "python",
   "nbconvert_exporter": "python",
   "pygments_lexer": "ipython3",
   "version": "3.7.6"
  }
 },
 "nbformat": 4,
 "nbformat_minor": 4
}
