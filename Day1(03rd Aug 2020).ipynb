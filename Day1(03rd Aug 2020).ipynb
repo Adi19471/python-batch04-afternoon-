{
 "cells": [
  {
   "cell_type": "markdown",
   "metadata": {},
   "source": [
    "# Day1"
   ]
  },
  {
   "cell_type": "code",
   "execution_count": 6,
   "metadata": {},
   "outputs": [
    {
     "name": "stdout",
     "output_type": "stream",
     "text": [
      "hello\n"
     ]
    }
   ],
   "source": [
    "print('hello')"
   ]
  },
  {
   "cell_type": "markdown",
   "metadata": {},
   "source": [
    "Order of preparing notes\n",
    "- Introduction\n",
    "    - heading\n",
    "        - sub heading\n",
    "            - parapragh/description"
   ]
  },
  {
   "cell_type": "markdown",
   "metadata": {},
   "source": [
    "# heading1\n",
    "## heading2\n",
    "### heading3\n",
    "##### heading5\n",
    "\n",
    "###### heading6"
   ]
  },
  {
   "cell_type": "markdown",
   "metadata": {},
   "source": [
    "## Literating Programming\n",
    "* Programming along with documentation"
   ]
  },
  {
   "cell_type": "markdown",
   "metadata": {},
   "source": [
    "I am *italic* text\n",
    "**bold text** \n",
    "***Italic bold text*** "
   ]
  },
  {
   "cell_type": "markdown",
   "metadata": {},
   "source": [
    "I am *italic* text\n",
    "\n",
    "**bold text** \n",
    "\n",
    "***Italic bold text*** "
   ]
  },
  {
   "cell_type": "markdown",
   "metadata": {},
   "source": [
    "I am *italic* text<br>\n",
    "**bold text** <br>\n",
    "***Italic bold text*** <br>"
   ]
  },
  {
   "cell_type": "markdown",
   "metadata": {},
   "source": [
    "# Python\n",
    "- It's a general purpose, high level and interpreted language\n",
    "- High level programming language\n",
    "    * A lang which is understandable by the user\n",
    "    - E: C, C++,JAVA,ORACLE,PYTHON etc.\n",
    "- Interpreted language\n",
    "    - It gives the line by line execution\n",
    "- General purpose\n",
    "    - used for multiple purposes in realtime\n",
    "    - web development, system s/w, application s/w,scientific computation\n",
    "- Role of python\n",
    "    - It is the building block of all the current technologies like Artificial Intelligence, Machine Learning, Data Science, Robotics, IOT etc..\n",
    "    \n",
    "- It is simple to learn and easy to code"
   ]
  },
  {
   "cell_type": "code",
   "execution_count": null,
   "metadata": {},
   "outputs": [],
   "source": []
  }
 ],
 "metadata": {
  "kernelspec": {
   "display_name": "Python 3",
   "language": "python",
   "name": "python3"
  },
  "language_info": {
   "codemirror_mode": {
    "name": "ipython",
    "version": 3
   },
   "file_extension": ".py",
   "mimetype": "text/x-python",
   "name": "python",
   "nbconvert_exporter": "python",
   "pygments_lexer": "ipython3",
   "version": "3.7.6"
  }
 },
 "nbformat": 4,
 "nbformat_minor": 4
}
